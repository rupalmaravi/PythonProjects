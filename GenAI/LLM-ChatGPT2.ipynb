{
 "cells": [
  {
   "cell_type": "markdown",
   "id": "0332a974",
   "metadata": {},
   "source": [
    "The code is to call Open AI API for gpt and create  a chatbot to answer any questions from user . LLM model called is either \"gpt-3.5-turbo\" or \"gpt-3.5-turbo-0301\""
   ]
  },
  {
   "cell_type": "code",
   "execution_count": null,
   "id": "a54e7ca4",
   "metadata": {},
   "outputs": [],
   "source": [
    "#!pip install python-dotenv \n",
    "#!pip install openai"
   ]
  },
  {
   "cell_type": "code",
   "execution_count": null,
   "id": "7b411df1",
   "metadata": {},
   "outputs": [],
   "source": [
    "import os \n",
    "import openai\n",
    "\n",
    "from dotenv import load_dotenv , find_dotenv   \n",
    "_ = load_dotenv(find_dotenv())   # Load environment variables from .env file\n",
    "openai.api_key = os.getenv(\"OPENAI_API_KEY\")  # Ensure the API key is set\n"
   ]
  },
  {
   "cell_type": "code",
   "execution_count": null,
   "id": "da51c799",
   "metadata": {},
   "outputs": [],
   "source": [
    "# account for deprecciation of LLM model \n",
    "import datetime\n",
    "#get current date and time\n",
    "current_date = datetime.datetime.now().date()\n",
    "\n",
    "#define the date after which model should be set to \"gpt-3.5-turbo\"\n",
    "target_date = datetime.date(2025, 1, 1)\n",
    "\n",
    "if current_date >= target_date:\n",
    "    llm_model = \"gpt-3.5-turbo\"\n",
    "else:\n",
    "    llm_model = \"gpt-3.5-turbo-0301\""
   ]
  },
  {
   "cell_type": "code",
   "execution_count": null,
   "id": "ca131919",
   "metadata": {},
   "outputs": [],
   "source": [
    "def get_completion(prompt , model = llm_model): \n",
    "    \"\"\"\n",
    "    Function to get a response on a query  from OpenAI's API.\n",
    "    Args:\n",
    "        prompt (str): The input prompt for the model.\n",
    "        model (str): The model to use for completion. Defaults to llm_model.\n",
    "    Returns:\n",
    "        list: A list containing the model's response.\n",
    "    \"\"\"\n",
    "    message = [{\"role\": \"user\", \"content\": prompt}]\n",
    "    response = openai.ChatCompletion.create(\n",
    "        model=model,\n",
    "        messages=message,\n",
    "        temperature=0.0,  # Set temperature to 0 for deterministic output\n",
    "    )\n",
    "    return response.choices[0].message.content.strip().split(\"\\n\")  # Return the response as a list of strings  \n"
   ]
  },
  {
   "cell_type": "code",
   "execution_count": null,
   "id": "927c68d7",
   "metadata": {},
   "outputs": [],
   "source": [
    "get_completion(\"What is 5+3\")"
   ]
  }
 ],
 "metadata": {
  "kernelspec": {
   "display_name": "Python 3",
   "language": "python",
   "name": "python3"
  },
  "language_info": {
   "codemirror_mode": {
    "name": "ipython",
    "version": 3
   },
   "file_extension": ".py",
   "mimetype": "text/x-python",
   "name": "python",
   "nbconvert_exporter": "python",
   "pygments_lexer": "ipython3",
   "version": "3.9.6"
  }
 },
 "nbformat": 4,
 "nbformat_minor": 5
}
